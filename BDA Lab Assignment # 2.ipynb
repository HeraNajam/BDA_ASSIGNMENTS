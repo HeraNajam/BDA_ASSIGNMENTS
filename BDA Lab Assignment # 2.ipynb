{
 "cells": [
  {
   "cell_type": "markdown",
   "metadata": {},
   "source": [
    "### Q1. Write a program that computes simple interest. Prompt for the principal amount, the rate as a percentage, and the time, and display the amount accrued (principal + interest). The formula for simple interest is A = P(1 + rt), where P is the principal amount, r is the annual rate of interest, t is the number of years the amount is invested, and A is the amount at the end of the investment."
   ]
  },
  {
   "cell_type": "code",
   "execution_count": 33,
   "metadata": {},
   "outputs": [
    {
     "name": "stdout",
     "output_type": "stream",
     "text": [
      "Enter the principal: 1500\n",
      "Enter the rate of interest: 4.3\n",
      "Enter the number of years: 4\n",
      "\n",
      "After  4  years at  4.3 %, the investment will be worth 1758.0\n"
     ]
    }
   ],
   "source": [
    "p = int(input('Enter the principal: '))\n",
    "r = float(input('Enter the rate of interest: '))\n",
    "t = int(input('Enter the number of years: '))\n",
    "\n",
    "#in order to find the value of interest in percentage, we divide the valu of interest by 100\n",
    "print()\n",
    "result = p*(1 + ((r/100)*t))\n",
    "print('After ', t, ' years at ', r , '%, the investment will be worth',result)"
   ]
  },
  {
   "cell_type": "markdown",
   "metadata": {},
   "source": [
    "### Q2. Write a program to compute the tax on an order amount. The program should prompt for the order amount and the state. If the state is “WI,” then the order must be charged 5.5% tax. The program should display the subtotal, tax, and total for Wisconsin residents but display just the total for non-residents."
   ]
  },
  {
   "cell_type": "code",
   "execution_count": 38,
   "metadata": {},
   "outputs": [
    {
     "name": "stdout",
     "output_type": "stream",
     "text": [
      "What is the order amount? 10\n",
      "What is the state? W1\n",
      "\n",
      "The subtotal is  10.0\n",
      "The tax is  0.55\n",
      "The total is $ 10.55\n"
     ]
    }
   ],
   "source": [
    "order_amount = float(input('What is the order amount? '))\n",
    "state = input('What is the state? ')\n",
    "\n",
    "\n",
    "if state == 'W1':\n",
    "    print()\n",
    "    print('The subtotal is ', order_amount)\n",
    "    print('The tax is ',order_amount*(5.5/100))\n",
    "    print('The total is $',(order_amount*(5.5/100))+ order_amount)\n",
    "    \n",
    "else:\n",
    "    print()\n",
    "    print('The subtotal is ', order_amount)\n",
    "    "
   ]
  },
  {
   "cell_type": "markdown",
   "metadata": {},
   "source": [
    "### Q3. Write a program that validates userlogin credentials. The program must prompt the user for a username and password. The program should compare the password given by the user to a known password. If the password matches, the program should display “Welcome!” If it doesn’t match, the program should display “I don’t know you.”"
   ]
  },
  {
   "cell_type": "code",
   "execution_count": 36,
   "metadata": {},
   "outputs": [
    {
     "name": "stdout",
     "output_type": "stream",
     "text": [
      "What is the password? heera123@1\n",
      "Welcome!\n"
     ]
    }
   ],
   "source": [
    "my_password = 'heera123@1'\n",
    "\n",
    "pass_1 = input('What is the password? ')\n",
    "\n",
    "if pass_1 == my_password:\n",
    "    print('Welcome!')\n",
    "else:\n",
    "    print('Sorry, I don\\'t know you')"
   ]
  },
  {
   "cell_type": "markdown",
   "metadata": {},
   "source": [
    "### Q4. Write a program that asks the user for their age and compare it to the legal driving age of sixteen. If the user is sixteen or older, then the program should display  'You are old enough to legally drive.' If the user is under sixteen , the program should display 'You are not old enough to legally drive.'"
   ]
  },
  {
   "cell_type": "code",
   "execution_count": 42,
   "metadata": {},
   "outputs": [
    {
     "name": "stdout",
     "output_type": "stream",
     "text": [
      "What is your age? 35\n",
      "You are old enough to legally drive.\n"
     ]
    }
   ],
   "source": [
    "age = int(input('What is your age? '))\n",
    "\n",
    "if age >= 15:\n",
    "    print('You are old enough to legally drive.')\n",
    "else:\n",
    "    print('You are not old enough to legally drive.')"
   ]
  },
  {
   "cell_type": "markdown",
   "metadata": {},
   "source": [
    "### Q5. Write a program that converts temperature from Fahrenheit to Celsius os from Celsius to Fahrenheit. Prompt for the starting temperature. The program should prompt for the type of conversion and then perform the conversion."
   ]
  },
  {
   "cell_type": "code",
   "execution_count": 43,
   "metadata": {},
   "outputs": [
    {
     "name": "stdout",
     "output_type": "stream",
     "text": [
      "Press C to convert from Fahrenheit to Celsius.\n",
      "Press F to convert from Celsius to Fahrenfeit.c\n",
      "Your choice:  C\n",
      "\n",
      "\n",
      "Please enter the temperature in Fahrenheit: 32\n",
      "The temperature in Celsius is  0.0\n"
     ]
    }
   ],
   "source": [
    "\n",
    "choice = input('Press C to convert from Fahrenheit to Celsius.\\nPress F to convert from Celsius to Fahrenfeit.')\n",
    "\n",
    "if choice.islower():\n",
    "    choice = choice.upper()\n",
    "\n",
    "print('Your choice: ', choice, end = '\\n\\n')\n",
    "\n",
    "if choice == 'C':\n",
    "    print()\n",
    "    f = int(input('Please enter the temperature in Fahrenheit: '))\n",
    "    print('The temperature in Celsius is ', ((f-32) * (5/9)) )\n",
    "    \n",
    "elif choice == 'F':\n",
    "    print()\n",
    "    c = int(input('Please enter the temperature in Celsius: '))\n",
    "    print('The temperature in Fahrenheit is ', ((c*(9/5)) + 32) )\n",
    "    \n",
    "else:\n",
    "    print('You entered an invalid number', choice)"
   ]
  }
 ],
 "metadata": {
  "kernelspec": {
   "display_name": "Python 3",
   "language": "python",
   "name": "python3"
  },
  "language_info": {
   "codemirror_mode": {
    "name": "ipython",
    "version": 3
   },
   "file_extension": ".py",
   "mimetype": "text/x-python",
   "name": "python",
   "nbconvert_exporter": "python",
   "pygments_lexer": "ipython3",
   "version": "3.8.5"
  }
 },
 "nbformat": 4,
 "nbformat_minor": 4
}
