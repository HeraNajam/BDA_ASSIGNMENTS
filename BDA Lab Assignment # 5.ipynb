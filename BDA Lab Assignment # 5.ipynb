{
 "cells": [
  {
   "cell_type": "markdown",
   "metadata": {},
   "source": [
    "### Write the data into the csv formate."
   ]
  },
  {
   "cell_type": "code",
   "execution_count": 142,
   "metadata": {},
   "outputs": [],
   "source": [
    "import csv\n",
    "import pandas"
   ]
  },
  {
   "cell_type": "code",
   "execution_count": 143,
   "metadata": {},
   "outputs": [],
   "source": [
    "dic1 = {\n",
    "    'current_Date': '21-Nov-2020', \n",
    "    'Data': {\n",
    "        'person_1': {\n",
    "            'name': 'Mr. Abdul Rafay', \n",
    "            'age': 22, \n",
    "            'Interests': ['football', 'cricket'], \n",
    "            'amount_deposited': 50000,\n",
    "            'year': 1998}, \n",
    "        'person_2': {\n",
    "            'name': 'Ms. Nancy James', \n",
    "            'age': 23, \n",
    "            'Interests': ['baseball', 'cricket'], \n",
    "            'amount_deposited': 51000, \n",
    "            'year': 1997}}}\n"
   ]
  },
  {
   "cell_type": "code",
   "execution_count": 144,
   "metadata": {},
   "outputs": [
    {
     "data": {
      "text/plain": [
       "'21-Nov-2020'"
      ]
     },
     "execution_count": 144,
     "metadata": {},
     "output_type": "execute_result"
    }
   ],
   "source": [
    "# pop function deletes the specific key with value\n",
    "dic1.pop(\"current_Date\")"
   ]
  },
  {
   "cell_type": "code",
   "execution_count": 145,
   "metadata": {},
   "outputs": [],
   "source": [
    "for k,v in dic1.items():\n",
    "    val_list = []\n",
    "    for k1, v1 in v.items():\n",
    "        key = list(v1.keys())\n",
    "        val = list(v1.values())\n",
    "        val_list.append(val)\n"
   ]
  },
  {
   "cell_type": "code",
   "execution_count": 146,
   "metadata": {},
   "outputs": [
    {
     "name": "stdout",
     "output_type": "stream",
     "text": [
      "The file has been written\n"
     ]
    }
   ],
   "source": [
    "# wite the data into the csv file\n",
    "with open('names.csv', 'w') as f:\n",
    "    write = csv.writer(f)\n",
    "    write.writerow(key)\n",
    "    write.writerows(val_list)\n",
    "    print('The file has been written')"
   ]
  },
  {
   "cell_type": "code",
   "execution_count": 147,
   "metadata": {},
   "outputs": [
    {
     "name": "stdout",
     "output_type": "stream",
     "text": [
      "              name  age                Interests  amount_deposited  year\n",
      "0  Mr. Abdul Rafay   22  ['football', 'cricket']             50000  1998\n",
      "1  Ms. Nancy James   23  ['baseball', 'cricket']             51000  1997\n"
     ]
    }
   ],
   "source": [
    "# read the csv file with pandas\n",
    "res = pandas.read_csv('names.csv')\n",
    "print(res)\n"
   ]
  }
 ],
 "metadata": {
  "kernelspec": {
   "display_name": "Python 3",
   "language": "python",
   "name": "python3"
  },
  "language_info": {
   "codemirror_mode": {
    "name": "ipython",
    "version": 3
   },
   "file_extension": ".py",
   "mimetype": "text/x-python",
   "name": "python",
   "nbconvert_exporter": "python",
   "pygments_lexer": "ipython3",
   "version": "3.8.5"
  }
 },
 "nbformat": 4,
 "nbformat_minor": 4
}
