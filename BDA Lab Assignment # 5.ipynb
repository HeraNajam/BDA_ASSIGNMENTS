{
 "cells": [
  {
   "cell_type": "markdown",
   "metadata": {},
   "source": [
    "### Write data into the CSV format."
   ]
  },
  {
   "cell_type": "code",
   "execution_count": 28,
   "metadata": {},
   "outputs": [
    {
     "data": {
      "text/plain": [
       "'21-Nov-2020'"
      ]
     },
     "execution_count": 28,
     "metadata": {},
     "output_type": "execute_result"
    }
   ],
   "source": [
    "import csv\n",
    "import pandas as pd\n",
    "\n",
    "dic1 = {\n",
    "    'current_Date': '21-Nov-2020', \n",
    "    'Data': {\n",
    "        'person_1': {\n",
    "            'name': 'Mr. Abdul Rafay', \n",
    "            'age': 22, \n",
    "            'Interests': ['football', 'cricket'], \n",
    "            'amount_deposited': 50000,\n",
    "            'year': 1998}, \n",
    "        'person_2': {\n",
    "            'name': 'Ms. Nancy James', \n",
    "            'age': 23, \n",
    "            'Interests': ['baseball', 'cricket'], \n",
    "            'amount_deposited': 51000, \n",
    "            'year': 1997}\n",
    "    }\n",
    "}\n",
    "\n",
    "dic1.pop(\"current_Date\")\n"
   ]
  },
  {
   "cell_type": "code",
   "execution_count": 64,
   "metadata": {},
   "outputs": [
    {
     "data": {
      "text/html": [
       "<div>\n",
       "<style scoped>\n",
       "    .dataframe tbody tr th:only-of-type {\n",
       "        vertical-align: middle;\n",
       "    }\n",
       "\n",
       "    .dataframe tbody tr th {\n",
       "        vertical-align: top;\n",
       "    }\n",
       "\n",
       "    .dataframe thead th {\n",
       "        text-align: right;\n",
       "    }\n",
       "</style>\n",
       "<table border=\"1\" class=\"dataframe\">\n",
       "  <thead>\n",
       "    <tr style=\"text-align: right;\">\n",
       "      <th></th>\n",
       "      <th>name</th>\n",
       "      <th>age</th>\n",
       "      <th>Interests</th>\n",
       "      <th>amount_deposited</th>\n",
       "      <th>year</th>\n",
       "    </tr>\n",
       "  </thead>\n",
       "  <tbody>\n",
       "    <tr>\n",
       "      <th>0</th>\n",
       "      <td>Mr. Abdul Rafay</td>\n",
       "      <td>22</td>\n",
       "      <td>football,cricket</td>\n",
       "      <td>50000</td>\n",
       "      <td>1998</td>\n",
       "    </tr>\n",
       "    <tr>\n",
       "      <th>1</th>\n",
       "      <td>Ms. Nancy James</td>\n",
       "      <td>23</td>\n",
       "      <td>baseball,cricket</td>\n",
       "      <td>51000</td>\n",
       "      <td>1997</td>\n",
       "    </tr>\n",
       "  </tbody>\n",
       "</table>\n",
       "</div>"
      ],
      "text/plain": [
       "              name  age         Interests  amount_deposited  year\n",
       "0  Mr. Abdul Rafay   22  football,cricket             50000  1998\n",
       "1  Ms. Nancy James   23  baseball,cricket             51000  1997"
      ]
     },
     "execution_count": 64,
     "metadata": {},
     "output_type": "execute_result"
    }
   ],
   "source": [
    "df = pd.DataFrame({y:z for k,v in dic1.items() for y,z in v.items()}.values())\n",
    "df['Interests'] = df['Interests'].str.join(',')\n",
    "df.to_csv('names.csv',index=False)\n",
    "df"
   ]
  }
 ],
 "metadata": {
  "kernelspec": {
   "display_name": "Python 3",
   "language": "python",
   "name": "python3"
  },
  "language_info": {
   "codemirror_mode": {
    "name": "ipython",
    "version": 3
   },
   "file_extension": ".py",
   "mimetype": "text/x-python",
   "name": "python",
   "nbconvert_exporter": "python",
   "pygments_lexer": "ipython3",
   "version": "3.8.5"
  }
 },
 "nbformat": 4,
 "nbformat_minor": 4
}
